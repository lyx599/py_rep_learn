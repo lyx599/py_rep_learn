{
 "cells": [
  {
   "cell_type": "markdown",
   "metadata": {},
   "source": [
    "# 选择配色方案"
   ]
  },
  {
   "cell_type": "code",
   "execution_count": 1,
   "metadata": {
    "ExecuteTime": {
     "end_time": "2019-07-09T07:15:01.301695Z",
     "start_time": "2019-07-09T07:14:52.566150Z"
    }
   },
   "outputs": [],
   "source": [
    "import numpy as np\n",
    "import seaborn as sns\n",
    "import matplotlib.pyplot as plt\n",
    "sns.set(rc={\"figure.figsize\": (6, 6)})\n",
    "np.random.seed(sum(map(ord, \"palettes\")))\n",
    "%matplotlib inline"
   ]
  },
  {
   "cell_type": "markdown",
   "metadata": {},
   "source": [
    "# 使用color_palette()和set_palette()建立配色方案"
   ]
  },
  {
   "cell_type": "markdown",
   "metadata": {},
   "source": [
    "color_palette()可以接受的颜色参数形式\n",
    "- HTML十六进制字符串（hex color codes）\n",
    "\n",
    "    - color = '#eeefff'\n",
    "- 合法的HTML颜色名字（HTML color names）\n",
    "\n",
    "    - color = 'red'/'chartreuse'\n",
    "- 归一化到[0, 1]的RGB元组（RGB tuples）\n",
    "    - color = (0.3, 0.3, 0.4)"
   ]
  },
  {
   "cell_type": "markdown",
   "metadata": {},
   "source": [
    "# Qualitative color palettes"
   ]
  },
  {
   "cell_type": "markdown",
   "metadata": {},
   "source": [
    "当需要区分离散的数据集，且数据集之间没有内在的顺序，最好使用qualitative (or categorical) palettes"
   ]
  },
  {
   "cell_type": "code",
   "execution_count": 2,
   "metadata": {
    "ExecuteTime": {
     "end_time": "2019-07-09T07:15:01.322684Z",
     "start_time": "2019-07-09T07:15:01.305695Z"
    }
   },
   "outputs": [
    {
     "data": {
      "text/plain": [
       "[(0.2980392156862745, 0.4470588235294118, 0.6901960784313725),\n",
       " (0.8666666666666667, 0.5176470588235295, 0.3215686274509804),\n",
       " (0.3333333333333333, 0.6588235294117647, 0.40784313725490196),\n",
       " (0.7686274509803922, 0.3058823529411765, 0.3215686274509804),\n",
       " (0.5058823529411764, 0.4470588235294118, 0.7019607843137254),\n",
       " (0.5764705882352941, 0.47058823529411764, 0.3764705882352941),\n",
       " (0.8549019607843137, 0.5450980392156862, 0.7647058823529411),\n",
       " (0.5490196078431373, 0.5490196078431373, 0.5490196078431373),\n",
       " (0.8, 0.7254901960784313, 0.4549019607843137),\n",
       " (0.39215686274509803, 0.7098039215686275, 0.803921568627451)]"
      ]
     },
     "execution_count": 2,
     "metadata": {},
     "output_type": "execute_result"
    }
   ],
   "source": [
    "# 导入Seaborn的同时，会引入默认的颜色循环\n",
    "sns.set()\n",
    "sns.color_palette() # 返回当前默认颜色循环"
   ]
  },
  {
   "cell_type": "code",
   "execution_count": 3,
   "metadata": {
    "ExecuteTime": {
     "end_time": "2019-07-09T07:15:01.573540Z",
     "start_time": "2019-07-09T07:15:01.326683Z"
    }
   },
   "outputs": [
    {
     "data": {
      "image/png": "[encoded data removed]",
      "text/plain": [
       "<Figure size 720x72 with 1 Axes>"
      ]
     },
     "metadata": {},
     "output_type": "display_data"
    }
   ],
   "source": [
    "# 显示当前默认颜色循环\n",
    "current_palette = sns.color_palette()\n",
    "sns.palplot(current_palette) # sns.palplot：plot the values in a color palette as a horizontal array"
   ]
  },
  {
   "cell_type": "markdown",
   "metadata": {},
   "source": [
    "当需要区分的数据集超过颜色循环中的10种颜色时，最简单的方法是使用循环颜色系统"
   ]
  },
  {
   "cell_type": "code",
   "execution_count": 4,
   "metadata": {
    "ExecuteTime": {
     "end_time": "2019-07-09T07:15:01.785419Z",
     "start_time": "2019-07-09T07:15:01.577538Z"
    }
   },
   "outputs": [
    {
     "data": {
      "image/png": "[encoded data removed]",
      "text/plain": [
       "<Figure size 864x72 with 1 Axes>"
      ]
     },
     "metadata": {},
     "output_type": "display_data"
    }
   ],
   "source": [
    "# 最为常用的方法是使用'hls'循环颜色系统\n",
    "sns.palplot(sns.color_palette(\"hls\", 12))"
   ]
  },
  {
   "cell_type": "code",
   "execution_count": 5,
   "metadata": {
    "ExecuteTime": {
     "end_time": "2019-07-09T07:15:01.960319Z",
     "start_time": "2019-07-09T07:15:01.791415Z"
    }
   },
   "outputs": [
    {
     "data": {
      "image/png": "[encoded data removed]",
      "text/plain": [
       "<Figure size 864x72 with 1 Axes>"
      ]
     },
     "metadata": {},
     "output_type": "display_data"
    }
   ],
   "source": [
    "# 可以通过sns.hls_palette函数控制'hls'循环颜色系统的亮度和饱和度\n",
    "sns.palplot(sns.hls_palette(12, l=.3, s=.8)) # l是亮度（lightness），s是饱和度（saturation）"
   ]
  },
  {
   "cell_type": "code",
   "execution_count": 6,
   "metadata": {
    "ExecuteTime": {
     "end_time": "2019-07-09T07:15:02.116228Z",
     "start_time": "2019-07-09T07:15:01.962316Z"
    }
   },
   "outputs": [
    {
     "data": {
      "image/png": "[encoded data removed]",
      "text/plain": [
       "<Figure size 864x72 with 1 Axes>"
      ]
     },
     "metadata": {},
     "output_type": "display_data"
    }
   ],
   "source": [
    "# 'husl'循环颜色系统，在亮度和饱和度上分别更加平均\n",
    "sns.palplot(sns.color_palette(\"husl\", 12))"
   ]
  },
  {
   "cell_type": "code",
   "execution_count": 7,
   "metadata": {
    "ExecuteTime": {
     "end_time": "2019-07-09T07:15:02.259148Z",
     "start_time": "2019-07-09T07:15:02.119227Z"
    }
   },
   "outputs": [
    {
     "data": {
      "image/png": "[encoded data removed]",
      "text/plain": [
       "<Figure size 864x72 with 1 Axes>"
      ]
     },
     "metadata": {},
     "output_type": "display_data"
    }
   ],
   "source": [
    "# 可以通过sns.husl_palette函数控制'husl'循环颜色系统的亮度和饱和度\n",
    "sns.palplot(sns.husl_palette(12, l=.9, s=.9)) # l是亮度（lightness），s是饱和度（saturation）"
   ]
  },
  {
   "cell_type": "markdown",
   "metadata": {},
   "source": [
    "# Sequential color palettes"
   ]
  },
  {
   "cell_type": "markdown",
   "metadata": {
    "ExecuteTime": {
     "end_time": "2019-07-08T14:33:03.734890Z",
     "start_time": "2019-07-08T14:33:03.728893Z"
    }
   },
   "source": [
    "当数据集的范围从相对低值（不感兴趣）到相对高值（很感兴趣），最好使用sequential color palettes\n",
    "\n",
    "常用于kdeplot或corrplot等函数\n",
    "\n",
    "The Color Brewer library中有大量的sequential color palettes，以占主导地位的颜色命名（如Blues）"
   ]
  },
  {
   "cell_type": "code",
   "execution_count": 8,
   "metadata": {
    "ExecuteTime": {
     "end_time": "2019-07-09T07:15:02.416056Z",
     "start_time": "2019-07-09T07:15:02.263145Z"
    }
   },
   "outputs": [
    {
     "data": {
      "image/png": "[encoded data removed]",
      "text/plain": [
       "<Figure size 432x72 with 1 Axes>"
      ]
     },
     "metadata": {},
     "output_type": "display_data"
    }
   ],
   "source": [
    "sns.palplot(sns.color_palette(\"Blues\"))"
   ]
  },
  {
   "cell_type": "markdown",
   "metadata": {
    "ExecuteTime": {
     "end_time": "2019-07-08T14:34:29.934253Z",
     "start_time": "2019-07-08T14:34:29.928256Z"
    }
   },
   "source": [
    "添加后缀_r，倒置sequential color palettes的顺序"
   ]
  },
  {
   "cell_type": "code",
   "execution_count": 9,
   "metadata": {
    "ExecuteTime": {
     "end_time": "2019-07-09T07:15:02.547982Z",
     "start_time": "2019-07-09T07:15:02.420056Z"
    }
   },
   "outputs": [
    {
     "data": {
      "image/png": "[encoded data removed]",
      "text/plain": [
       "<Figure size 432x72 with 1 Axes>"
      ]
     },
     "metadata": {},
     "output_type": "display_data"
    }
   ],
   "source": [
    "sns.palplot(sns.color_palette(\"Blues_r\"))"
   ]
  },
  {
   "cell_type": "markdown",
   "metadata": {},
   "source": [
    "添加后缀_d，使sequential color palettes颜色变深"
   ]
  },
  {
   "cell_type": "code",
   "execution_count": 10,
   "metadata": {
    "ExecuteTime": {
     "end_time": "2019-07-09T07:15:02.686903Z",
     "start_time": "2019-07-09T07:15:02.553977Z"
    }
   },
   "outputs": [
    {
     "data": {
      "image/png": "[encoded data removed]",
      "text/plain": [
       "<Figure size 432x72 with 1 Axes>"
      ]
     },
     "metadata": {},
     "output_type": "display_data"
    }
   ],
   "source": [
    "sns.palplot(sns.color_palette(\"Blues_d\"))"
   ]
  },
  {
   "cell_type": "markdown",
   "metadata": {},
   "source": [
    "## Sequential palettes中的cubehelix_palette()函数"
   ]
  },
  {
   "cell_type": "markdown",
   "metadata": {},
   "source": [
    "cubehelix调色板系统的亮度是线性变化的，优点在于打印后也能区分不同颜色，且对色盲友好"
   ]
  },
  {
   "cell_type": "code",
   "execution_count": 11,
   "metadata": {
    "ExecuteTime": {
     "end_time": "2019-07-09T07:15:02.824824Z",
     "start_time": "2019-07-09T07:15:02.695898Z"
    }
   },
   "outputs": [
    {
     "data": {
      "image/png": "[encoded data removed]",
      "text/plain": [
       "<Figure size 576x72 with 1 Axes>"
      ]
     },
     "metadata": {},
     "output_type": "display_data"
    }
   ],
   "source": [
    "sns.palplot(sns.color_palette(\"cubehelix\", 8)) # 通过cubehelix参数调用"
   ]
  },
  {
   "cell_type": "code",
   "execution_count": 12,
   "metadata": {
    "ExecuteTime": {
     "end_time": "2019-07-09T07:15:02.952762Z",
     "start_time": "2019-07-09T07:15:02.831820Z"
    }
   },
   "outputs": [
    {
     "data": {
      "image/png": "[encoded data removed]",
      "text/plain": [
       "<Figure size 576x72 with 1 Axes>"
      ]
     },
     "metadata": {},
     "output_type": "display_data"
    }
   ],
   "source": [
    "sns.palplot(sns.cubehelix_palette(8)) # 通过sns.cubehelix_palette()函数调用，与通过cubehelix参数调用的结果有所区别（色域的宽度变小、明暗变化倒置）"
   ]
  },
  {
   "cell_type": "code",
   "execution_count": 13,
   "metadata": {
    "ExecuteTime": {
     "end_time": "2019-07-09T07:15:03.085686Z",
     "start_time": "2019-07-09T07:15:02.957746Z"
    }
   },
   "outputs": [
    {
     "data": {
      "image/png": "[encoded data removed]",
      "text/plain": [
       "<Figure size 576x72 with 1 Axes>"
      ]
     },
     "metadata": {},
     "output_type": "display_data"
    }
   ],
   "source": [
    "# start参数（取值0到3）和rot参数（number of rotations，任意值，取值-1到1）\n",
    "sns.palplot(sns.cubehelix_palette(8, start=.5, rot=-.75))"
   ]
  },
  {
   "cell_type": "code",
   "execution_count": 14,
   "metadata": {
    "ExecuteTime": {
     "end_time": "2019-07-09T07:15:03.224594Z",
     "start_time": "2019-07-09T07:15:03.090672Z"
    }
   },
   "outputs": [
    {
     "data": {
      "image/png": "[encoded data removed]",
      "text/plain": [
       "<Figure size 576x72 with 1 Axes>"
      ]
     },
     "metadata": {},
     "output_type": "display_data"
    }
   ],
   "source": [
    "# dark、light参数（控制endpoints的暗度和亮度）、reverse参数（倒置cubehelix_palette）\n",
    "sns.palplot(sns.cubehelix_palette(8, start=2, rot=0, dark=0, light=.95, reverse=True))"
   ]
  },
  {
   "cell_type": "markdown",
   "metadata": {},
   "source": [
    "## Sequential palettes中的light_palette()函数和dark_palette()函数"
   ]
  },
  {
   "cell_type": "markdown",
   "metadata": {},
   "source": [
    "以某个颜色为种子，从明向暗或从暗向明渐变，产生sequential palettes"
   ]
  },
  {
   "cell_type": "code",
   "execution_count": 15,
   "metadata": {
    "ExecuteTime": {
     "end_time": "2019-07-09T07:15:03.321538Z",
     "start_time": "2019-07-09T07:15:03.227593Z"
    }
   },
   "outputs": [
    {
     "data": {
      "image/png": "[encoded data removed]",
      "text/plain": [
       "<Figure size 432x72 with 1 Axes>"
      ]
     },
     "metadata": {},
     "output_type": "display_data"
    }
   ],
   "source": [
    "sns.palplot(sns.light_palette(\"green\"))"
   ]
  },
  {
   "cell_type": "code",
   "execution_count": 16,
   "metadata": {
    "ExecuteTime": {
     "end_time": "2019-07-09T07:15:03.422480Z",
     "start_time": "2019-07-09T07:15:03.324536Z"
    }
   },
   "outputs": [
    {
     "data": {
      "image/png": "[encoded data removed]",
      "text/plain": [
       "<Figure size 432x72 with 1 Axes>"
      ]
     },
     "metadata": {},
     "output_type": "display_data"
    }
   ],
   "source": [
    "sns.palplot(sns.dark_palette(\"purple\"))"
   ]
  },
  {
   "cell_type": "code",
   "execution_count": 17,
   "metadata": {
    "ExecuteTime": {
     "end_time": "2019-07-09T07:15:03.550407Z",
     "start_time": "2019-07-09T07:15:03.425480Z"
    }
   },
   "outputs": [
    {
     "data": {
      "image/png": "[encoded data removed]",
      "text/plain": [
       "<Figure size 432x72 with 1 Axes>"
      ]
     },
     "metadata": {},
     "output_type": "display_data"
    }
   ],
   "source": [
    "# 倒置调色板的顺序\n",
    "sns.palplot(sns.light_palette(\"navy\", reverse=True))"
   ]
  },
  {
   "cell_type": "markdown",
   "metadata": {},
   "source": [
    "# Diverging color palettes"
   ]
  },
  {
   "cell_type": "markdown",
   "metadata": {},
   "source": [
    "当数据集的低值和高值都很重要，且数据集中有明确定义的中点时，最好使用diverging color palettes\n",
    "\n",
    "例如，绘制温度相对于基准时间点的变化图，最好使用diverging colormap来同时显示温度相对于基准值的上升和下降\n",
    "\n",
    "两端的颜色应该具有相似的亮度和饱和度，中间点的颜色不应该喧宾夺主  \n",
    "相关矩阵也应该使用这个颜色板"
   ]
  },
  {
   "cell_type": "code",
   "execution_count": 18,
   "metadata": {
    "ExecuteTime": {
     "end_time": "2019-07-09T07:15:03.672337Z",
     "start_time": "2019-07-09T07:15:03.554404Z"
    }
   },
   "outputs": [
    {
     "data": {
      "image/png": "[encoded data removed]",
      "text/plain": [
       "<Figure size 504x72 with 1 Axes>"
      ]
     },
     "metadata": {},
     "output_type": "display_data"
    }
   ],
   "source": [
    "sns.palplot(sns.color_palette(\"BrBG\", 7))"
   ]
  },
  {
   "cell_type": "code",
   "execution_count": 21,
   "metadata": {
    "ExecuteTime": {
     "end_time": "2019-07-09T07:17:33.585131Z",
     "start_time": "2019-07-09T07:17:33.444212Z"
    }
   },
   "outputs": [
    {
     "data": {
      "image/png": "[encoded data removed]",
      "text/plain": [
       "<Figure size 504x72 with 1 Axes>"
      ]
     },
     "metadata": {},
     "output_type": "display_data"
    }
   ],
   "source": [
    "sns.palplot(sns.color_palette(\"RdBu_r\", 7))"
   ]
  },
  {
   "cell_type": "code",
   "execution_count": 25,
   "metadata": {
    "ExecuteTime": {
     "end_time": "2019-07-09T07:19:59.853447Z",
     "start_time": "2019-07-09T07:19:59.699536Z"
    }
   },
   "outputs": [
    {
     "data": {
      "image/png": "[encoded data removed]",
      "text/plain": [
       "<Figure size 504x72 with 1 Axes>"
      ]
     },
     "metadata": {},
     "output_type": "display_data"
    }
   ],
   "source": [
    "# coolwarm调色板也是很好的选择，缺点在于中间的颜色和两端的颜色对比较少\n",
    "sns.palplot(sns.color_palette(\"coolwarm\", 7))"
   ]
  },
  {
   "cell_type": "markdown",
   "metadata": {},
   "source": [
    "## Diverging palettes中的diverging_palette()函数"
   ]
  },
  {
   "cell_type": "markdown",
   "metadata": {},
   "source": [
    "diverging_palette()函数使用'husl'颜色系统，需要在函数中设置两个hue参数，也可以选择设置两端颜色的亮度和饱和度"
   ]
  },
  {
   "cell_type": "code",
   "execution_count": 26,
   "metadata": {
    "ExecuteTime": {
     "end_time": "2019-07-09T07:20:48.561821Z",
     "start_time": "2019-07-09T07:20:48.420892Z"
    }
   },
   "outputs": [
    {
     "data": {
      "image/png": "[encoded data removed]",
      "text/plain": [
       "<Figure size 504x72 with 1 Axes>"
      ]
     },
     "metadata": {},
     "output_type": "display_data"
    }
   ],
   "source": [
    "sns.palplot(sns.diverging_palette(220, 20, n=7))"
   ]
  },
  {
   "cell_type": "code",
   "execution_count": 27,
   "metadata": {
    "ExecuteTime": {
     "end_time": "2019-07-09T07:21:10.925001Z",
     "start_time": "2019-07-09T07:21:10.676142Z"
    }
   },
   "outputs": [
    {
     "data": {
      "image/png": "[encoded data removed]",
      "text/plain": [
       "<Figure size 504x72 with 1 Axes>"
      ]
     },
     "metadata": {},
     "output_type": "display_data"
    }
   ],
   "source": [
    "sns.palplot(sns.diverging_palette(145, 280, s=85, l=25, n=7))"
   ]
  },
  {
   "cell_type": "code",
   "execution_count": 28,
   "metadata": {
    "ExecuteTime": {
     "end_time": "2019-07-09T07:24:42.965352Z",
     "start_time": "2019-07-09T07:24:42.828423Z"
    }
   },
   "outputs": [
    {
     "data": {
      "image/png": "[encoded data removed]",
      "text/plain": [
       "<Figure size 504x72 with 1 Axes>"
      ]
     },
     "metadata": {},
     "output_type": "display_data"
    }
   ],
   "source": [
    "# sep参数controls the width of the separation between the two ramps in the middle region of the palette\n",
    "sns.palplot(sns.diverging_palette(10, 220, sep=80, n=7))"
   ]
  },
  {
   "cell_type": "code",
   "execution_count": 29,
   "metadata": {
    "ExecuteTime": {
     "end_time": "2019-07-09T07:26:58.119167Z",
     "start_time": "2019-07-09T07:26:57.979247Z"
    }
   },
   "outputs": [
    {
     "data": {
      "image/png": "[encoded data removed]",
      "text/plain": [
       "<Figure size 504x72 with 1 Axes>"
      ]
     },
     "metadata": {},
     "output_type": "display_data"
    }
   ],
   "source": [
    "# 可以将中间点的颜色设置成暗色而非亮色\n",
    "sns.palplot(sns.diverging_palette(255, 133, l=60, n=7, center=\"dark\"))"
   ]
  },
  {
   "cell_type": "markdown",
   "metadata": {},
   "source": [
    "# 使用set_palette()函数改变配色方案的默认设置"
   ]
  },
  {
   "cell_type": "markdown",
   "metadata": {},
   "source": [
    "color_palette()与set_palette()的关系，类似于axes_style()和set_style()的关系\n",
    "\n",
    "set_palette()的参数与color_palette()相同\n",
    "\n",
    "区别在于，set_palette()会改变配色方案的默认设置，从而应用于之后所有的图表"
   ]
  },
  {
   "cell_type": "code",
   "execution_count": 30,
   "metadata": {
    "ExecuteTime": {
     "end_time": "2019-07-09T07:28:59.657133Z",
     "start_time": "2019-07-09T07:28:59.652136Z"
    }
   },
   "outputs": [],
   "source": [
    "def sinplot(flip=1):\n",
    "    x = np.linspace(0, 14, 100)\n",
    "    for i in range(1, 7):\n",
    "        plt.plot(x, np.sin(x + i * .5) * (7 - i) * flip)"
   ]
  },
  {
   "cell_type": "code",
   "execution_count": 31,
   "metadata": {
    "ExecuteTime": {
     "end_time": "2019-07-09T07:29:07.745687Z",
     "start_time": "2019-07-09T07:29:07.346916Z"
    }
   },
   "outputs": [
    {
     "data": {
      "image/png": "[encoded data removed]",
      "text/plain": [
       "<Figure size 432x288 with 1 Axes>"
      ]
     },
     "metadata": {},
     "output_type": "display_data"
    }
   ],
   "source": [
    "sns.set_palette(\"husl\")\n",
    "sinplot()"
   ]
  },
  {
   "cell_type": "markdown",
   "metadata": {},
   "source": [
    "在with语句里使用color_palette()函数来临时设置图表配色方案"
   ]
  },
  {
   "cell_type": "code",
   "execution_count": 32,
   "metadata": {
    "ExecuteTime": {
     "end_time": "2019-07-09T07:29:13.672292Z",
     "start_time": "2019-07-09T07:29:13.380460Z"
    }
   },
   "outputs": [
    {
     "data": {
      "image/png": "[encoded data removed]",
      "text/plain": [
       "<Figure size 432x288 with 1 Axes>"
      ]
     },
     "metadata": {},
     "output_type": "display_data"
    }
   ],
   "source": [
    "with sns.color_palette(\"PuBuGn_d\"):\n",
    "    sinplot()"
   ]
  }
 ],
 "metadata": {
  "kernelspec": {
   "display_name": "machine",
   "language": "python",
   "name": "machine_learing"
  },
  "language_info": {
   "codemirror_mode": {
    "name": "ipython",
    "version": 3
   },
   "file_extension": ".py",
   "mimetype": "text/x-python",
   "name": "python",
   "nbconvert_exporter": "python",
   "pygments_lexer": "ipython3",
   "version": "3.7.3"
  },
  "toc": {
   "base_numbering": 1,
   "nav_menu": {},
   "number_sections": true,
   "sideBar": true,
   "skip_h1_title": false,
   "title_cell": "Table of Contents",
   "title_sidebar": "Contents",
   "toc_cell": false,
   "toc_position": {},
   "toc_section_display": true,
   "toc_window_display": true
  },
  "varInspector": {
   "cols": {
    "lenName": 16,
    "lenType": 16,
    "lenVar": 40
   },
   "kernels_config": {
    "python": {
     "delete_cmd_postfix": "",
     "delete_cmd_prefix": "del ",
     "library": "var_list.py",
     "varRefreshCmd": "print(var_dic_list())"
    },
    "r": {
     "delete_cmd_postfix": ") ",
     "delete_cmd_prefix": "rm(",
     "library": "var_list.r",
     "varRefreshCmd": "cat(var_dic_list()) "
    }
   },
   "types_to_exclude": [
    "module",
    "function",
    "builtin_function_or_method",
    "instance",
    "_Feature"
   ],
   "window_display": false
  }
 },
 "nbformat": 4,
 "nbformat_minor": 2
}
