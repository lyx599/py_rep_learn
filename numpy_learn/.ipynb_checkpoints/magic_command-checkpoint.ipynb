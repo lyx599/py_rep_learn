{
 "cells": [
  {
   "cell_type": "markdown",
   "metadata": {},
   "source": [
    "# 魔术命令"
   ]
  },
  {
   "cell_type": "code",
   "execution_count": 1,
   "metadata": {},
   "outputs": [],
   "source": [
    "import numpy as np"
   ]
  },
  {
   "cell_type": "markdown",
   "metadata": {},
   "source": [
    "## 1.显示所有魔术命令的详细文档"
   ]
  },
  {
   "cell_type": "code",
   "execution_count": 2,
   "metadata": {},
   "outputs": [],
   "source": [
    "%magic"
   ]
  },
  {
   "cell_type": "markdown",
   "metadata": {},
   "source": [
    "## 2.显示IPython的快速参考"
   ]
  },
  {
   "cell_type": "code",
   "execution_count": 3,
   "metadata": {},
   "outputs": [],
   "source": [
    "%quickref"
   ]
  },
  {
   "cell_type": "markdown",
   "metadata": {},
   "source": [
    "## 3.显示执行时间"
   ]
  },
  {
   "cell_type": "code",
   "execution_count": 4,
   "metadata": {},
   "outputs": [
    {
     "name": "stdout",
     "output_type": "stream",
     "text": [
      "Wall time: 7 ms\n"
     ]
    },
    {
     "data": {
      "text/plain": [
       "array([[ 25.63339049, -14.39598076,   9.67702854, ...,  -0.8819367 ,\n",
       "         24.8268831 ,   3.28470807],\n",
       "       [ 21.35627381,  -3.18907424,  -1.57528267, ...,   3.26345748,\n",
       "         -3.20474774, -11.44482504],\n",
       "       [ -0.24843301,  10.36628313,   5.21166735, ...,  -4.58323494,\n",
       "        -14.6543117 ,   8.98363916],\n",
       "       ...,\n",
       "       [  4.51835782,  -6.48822192,  -1.40243422, ...,   3.37129864,\n",
       "          9.03615051,   0.50545035],\n",
       "       [  4.64796359,  -9.56068939,  13.94867809, ...,  -6.19961962,\n",
       "         30.45325402, -13.51208385],\n",
       "       [-13.63810888,  -9.30967843,   3.83683325, ...,  10.27394893,\n",
       "          2.70490915,  -4.57216387]])"
      ]
     },
     "execution_count": 4,
     "metadata": {},
     "output_type": "execute_result"
    }
   ],
   "source": [
    "arr = np.random.randn(100,100)\n",
    "%time arr @ arr"
   ]
  },
  {
   "cell_type": "markdown",
   "metadata": {},
   "source": [
    "## 4.多次执行计算平均时间"
   ]
  },
  {
   "cell_type": "code",
   "execution_count": 5,
   "metadata": {},
   "outputs": [
    {
     "name": "stdout",
     "output_type": "stream",
     "text": [
      "97.5 µs ± 22.3 µs per loop (mean ± std. dev. of 7 runs, 10000 loops each)\n"
     ]
    }
   ],
   "source": [
    "arr = np.random.randn(100,100)\n",
    "%timeit arr @ arr"
   ]
  }
 ],
 "metadata": {
  "kernelspec": {
   "display_name": "Python 3",
   "language": "python",
   "name": "python3"
  },
  "language_info": {
   "codemirror_mode": {
    "name": "ipython",
    "version": 3
   },
   "file_extension": ".py",
   "mimetype": "text/x-python",
   "name": "python",
   "nbconvert_exporter": "python",
   "pygments_lexer": "ipython3",
   "version": "3.7.0"
  }
 },
 "nbformat": 4,
 "nbformat_minor": 2
}
